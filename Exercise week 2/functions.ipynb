{
 "cells": [
  {
   "attachments": {},
   "cell_type": "markdown",
   "metadata": {},
   "source": [
    "1. Write a program that takes a list of numbers and returns the largest number in the list."
   ]
  },
  {
   "cell_type": "code",
   "execution_count": 4,
   "metadata": {},
   "outputs": [
    {
     "name": "stdout",
     "output_type": "stream",
     "text": [
      "9\n"
     ]
    }
   ],
   "source": [
    "numbers = [1, 2, 3, 4, 5, 6, 7, 8, 9]\n",
    "# your code here\n",
    "def func(lst):\n",
    "    a=lst[0]\n",
    "    for i in lst:\n",
    "        if i>a:\n",
    "            a=i\n",
    "    return a\n",
    "print(func(numbers))"
   ]
  },
  {
   "attachments": {},
   "cell_type": "markdown",
   "metadata": {},
   "source": [
    "2. Write a program that takes a string and returns the number of vowels in the string."
   ]
  },
  {
   "cell_type": "code",
   "execution_count": 16,
   "metadata": {},
   "outputs": [
    {
     "name": "stdout",
     "output_type": "stream",
     "text": [
      "3\n"
     ]
    }
   ],
   "source": [
    "string = \"Hello, world!\"\n",
    "# your code here\n",
    "def func(a):\n",
    "    b=0\n",
    "    c='aeiouAEIOU'\n",
    "    for i in a:\n",
    "        if i in c:\n",
    "            b=b+1\n",
    "    return b\n",
    "print(func(string))"
   ]
  },
  {
   "attachments": {},
   "cell_type": "markdown",
   "metadata": {},
   "source": [
    "3. Write a program that takes a list of strings and returns a new list that contains only the strings that start with the letter 'a'."
   ]
  },
  {
   "cell_type": "code",
   "execution_count": 4,
   "metadata": {},
   "outputs": [
    {
     "name": "stdout",
     "output_type": "stream",
     "text": [
      "['apple']\n"
     ]
    }
   ],
   "source": [
    "strings = [\"apple\", \"banana\", \"cherry\", \"date\"]\n",
    "# your code here\n",
    "def func(a):\n",
    "    lst=[]\n",
    "    for i in range (len(a)):\n",
    "        if a[i][0]=='a':\n",
    "            lst=lst+[a[i]]\n",
    "    return lst\n",
    "print(func(strings))"
   ]
  },
  {
   "attachments": {},
   "cell_type": "markdown",
   "metadata": {},
   "source": [
    "4. Write a program that takes a sentence (string) and returns a dictionary with the count of each word in the sentence."
   ]
  },
  {
   "cell_type": "code",
   "execution_count": 11,
   "metadata": {},
   "outputs": [
    {
     "name": "stdout",
     "output_type": "stream",
     "text": [
      "{'this': 4, 'is': 2, 'a': 1, 'test': 4, 'sentence': 8}\n"
     ]
    }
   ],
   "source": [
    "sentence = \"this is a test sentence\"\n",
    "# your code here\n",
    "def func(a):\n",
    "    lst2=[]\n",
    "    lst=a.split()\n",
    "    for i in lst:\n",
    "        lst2=lst2+[(i,len(i))]\n",
    "    d=dict(lst2)\n",
    "    return d\n",
    "print(func(sentence))"
   ]
  },
  {
   "attachments": {},
   "cell_type": "markdown",
   "metadata": {},
   "source": [
    "5. Write a program that takes two lists of numbers and returns a new list that contains only the numbers that are common to both lists."
   ]
  },
  {
   "cell_type": "code",
   "execution_count": 13,
   "metadata": {},
   "outputs": [
    {
     "name": "stdout",
     "output_type": "stream",
     "text": [
      "[2, 4, 6, 8]\n"
     ]
    }
   ],
   "source": [
    "list1 = [1, 2, 3, 4, 5, 6, 7, 8, 9]\n",
    "list2 = [2, 4, 6, 8, 10, 12, 14, 16, 18]\n",
    "# your code here\n",
    "def func(a,b):\n",
    "    lst=[]\n",
    "    for i in a:\n",
    "        for j in b:\n",
    "            if i==j:\n",
    "                lst=lst+[i]\n",
    "    return lst\n",
    "print(func(list1,list2))"
   ]
  },
  {
   "attachments": {},
   "cell_type": "markdown",
   "metadata": {},
   "source": [
    "6. Write a program that takes a list of integers and returns a new list that contains only the prime numbers from the original list."
   ]
  },
  {
   "cell_type": "code",
   "execution_count": 60,
   "metadata": {},
   "outputs": [
    {
     "name": "stdout",
     "output_type": "stream",
     "text": [
      "[2, 3, 5, 7, 11, 13]\n"
     ]
    }
   ],
   "source": [
    "numbers = [1, 2, 3, 4, 5, 6, 7, 8, 9, 10, 11, 12, 13, 14, 15]\n",
    "# your code here\n",
    "def func(arr):\n",
    "    a=[2,3,5,7]\n",
    "    lst=[]\n",
    "    for i in arr:\n",
    "        if i in a:\n",
    "            lst=lst+[i]\n",
    "        elif i!=1 and i%a[0]!=0 and i%a[1]!=0 and i%a[2]!=0 and i%a[3]!=0:\n",
    "            lst=lst+[i]\n",
    "    return lst\n",
    "print(func(numbers))"
   ]
  },
  {
   "attachments": {},
   "cell_type": "markdown",
   "metadata": {},
   "source": [
    "7. Write a program that takes a string and returns the number of words in the string."
   ]
  },
  {
   "cell_type": "code",
   "execution_count": 16,
   "metadata": {},
   "outputs": [
    {
     "name": "stdout",
     "output_type": "stream",
     "text": [
      "7\n"
     ]
    }
   ],
   "source": [
    "string = \"Write a program that takes a string\"\n",
    "# your code here\n",
    "def func(a):\n",
    "    lst=a.split()\n",
    "    return len(lst)\n",
    "print(func(string))"
   ]
  },
  {
   "attachments": {},
   "cell_type": "markdown",
   "metadata": {},
   "source": [
    "8. Write a program that takes a list of strings and returns a new list that contains only the strings that are palindrome."
   ]
  },
  {
   "cell_type": "code",
   "execution_count": 25,
   "metadata": {},
   "outputs": [
    {
     "name": "stdout",
     "output_type": "stream",
     "text": [
      "['madam', 'level', 'civic']\n"
     ]
    }
   ],
   "source": [
    "strings = [\"madam\", \"level\", \"civic\",\"nasrin\"]\n",
    "# your code here\n",
    "def func(a):\n",
    "    lst=[]\n",
    "    for i in a:\n",
    "        if i==i[::-1]:\n",
    "            lst=lst+[i]\n",
    "    return lst\n",
    "print(func(strings))"
   ]
  },
  {
   "attachments": {},
   "cell_type": "markdown",
   "metadata": {},
   "source": [
    "9. Write a program that takes a sentence (string) and returns a tuple of the most frequent word and its frequency."
   ]
  },
  {
   "cell_type": "code",
   "execution_count": 51,
   "metadata": {},
   "outputs": [
    {
     "name": "stdout",
     "output_type": "stream",
     "text": [
      "('test', 3)\n"
     ]
    }
   ],
   "source": [
    "sentence = \"this is a test sentence to test the test\"\n",
    "# your code here\n",
    "def func(a):\n",
    "    lst=a.split()\n",
    "    lst2=[]\n",
    "    for i in range(len(lst)):\n",
    "        k=0\n",
    "        for j in range(len(lst)):\n",
    "            if lst[i]==lst[j]:\n",
    "                k=k+1\n",
    "        lst2=lst2+[k]\n",
    "    for i in range(len(lst2)):\n",
    "        a=lst2[0]\n",
    "        if lst2[i]>a:\n",
    "            a=lst2[i]\n",
    "    return (lst[i],lst2[i])\n",
    "print(func(sentence))"
   ]
  },
  {
   "attachments": {},
   "cell_type": "markdown",
   "metadata": {},
   "source": [
    "10. Write a program that takes a list of numbers and returns a new list that contains only the numbers that are present in both the lists."
   ]
  },
  {
   "cell_type": "code",
   "execution_count": 2,
   "metadata": {},
   "outputs": [
    {
     "data": {
      "text/plain": [
       "[6]"
      ]
     },
     "execution_count": 2,
     "metadata": {},
     "output_type": "execute_result"
    }
   ],
   "source": [
    "list1 = [1, 2, 3, 4, 5, 6, 7, 8, 9]\n",
    "list2 = [2, 4, 6, 8, 10, 12, 14, 16, 18]\n",
    "list3 = [3, 6, 9, 12, 15, 18, 21, 24, 27]\n",
    "# your code here\n",
    "def func(arr1,arr2,arr3):\n",
    "    lst=[]\n",
    "    for i in arr1:\n",
    "        for j in arr2:\n",
    "            for k in arr3:\n",
    "                if i==j and i==k:\n",
    "                    lst=lst+[i]\n",
    "    result = [] \n",
    "    [result.append(x) for x in lst if x not in result]\n",
    "    return result\n",
    "func(list1,list2,list3)"
   ]
  }
 ],
 "metadata": {
  "kernelspec": {
   "display_name": "Python 3",
   "language": "python",
   "name": "python3"
  },
  "language_info": {
   "codemirror_mode": {
    "name": "ipython",
    "version": 3
   },
   "file_extension": ".py",
   "mimetype": "text/x-python",
   "name": "python",
   "nbconvert_exporter": "python",
   "pygments_lexer": "ipython3",
   "version": "3.10.5"
  },
  "orig_nbformat": 4,
  "vscode": {
   "interpreter": {
    "hash": "fb32f29424dad0331eb27f736fb225b75ce51eda34955ffb31a6f6cebc1a2c55"
   }
  }
 },
 "nbformat": 4,
 "nbformat_minor": 2
}
