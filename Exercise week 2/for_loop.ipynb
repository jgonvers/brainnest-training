{
 "cells": [
  {
   "attachments": {},
   "cell_type": "markdown",
   "metadata": {},
   "source": [
    "1. Create a for loop that iterates through a list of strings and prints each string in uppercase."
   ]
  },
  {
   "cell_type": "code",
   "execution_count": 2,
   "metadata": {},
   "outputs": [
    {
     "name": "stdout",
     "output_type": "stream",
     "text": [
      "['A', 'HELLO', 'LIFE', 'CITY']\n"
     ]
    }
   ],
   "source": [
    "lst=['a','HellO','life','CitY']\n",
    "lst2=[]\n",
    "try:\n",
    "    for i in lst:\n",
    "        lst2=lst2+[i.upper()]\n",
    "    print(lst2)\n",
    "except:\n",
    "    print('wrong input')"
   ]
  },
  {
   "attachments": {},
   "cell_type": "markdown",
   "metadata": {},
   "source": [
    "2. Create a for loop that iterates through a list of numbers and prints the square of each number."
   ]
  },
  {
   "cell_type": "code",
   "execution_count": 10,
   "metadata": {},
   "outputs": [
    {
     "name": "stdout",
     "output_type": "stream",
     "text": [
      "[1, 4, 9, 36]\n"
     ]
    }
   ],
   "source": [
    "lst=[1,2,3,6]\n",
    "lst2=[]\n",
    "try:\n",
    "    for i in lst:\n",
    "        lst2=lst2+[i*i]\n",
    "    print(lst2)\n",
    "except:\n",
    "    print('wrong input')"
   ]
  },
  {
   "attachments": {},
   "cell_type": "markdown",
   "metadata": {},
   "source": [
    "3. Create a for loop that iterates through a list of dictionaries and prints the value of a specified key for each dictionary."
   ]
  },
  {
   "cell_type": "code",
   "execution_count": 12,
   "metadata": {},
   "outputs": [
    {
     "name": "stdout",
     "output_type": "stream",
     "text": [
      "john\n"
     ]
    }
   ],
   "source": [
    "lst=[{'name':'john'},{'a':2,'b':3,'c':4}]\n",
    "k=input('enter key? ')\n",
    "for i in lst:\n",
    "    for key,value in i.items() :\n",
    "        if key==k:\n",
    "            print (value)"
   ]
  },
  {
   "attachments": {},
   "cell_type": "markdown",
   "metadata": {},
   "source": [
    "4. Create a for loop that iterates through a list of numbers and prints the largest number in the list."
   ]
  },
  {
   "cell_type": "code",
   "execution_count": 20,
   "metadata": {},
   "outputs": [
    {
     "name": "stdout",
     "output_type": "stream",
     "text": [
      "15\n"
     ]
    }
   ],
   "source": [
    "lst=[1,2,3,4,5,6,15,2]\n",
    "a=lst[0]\n",
    "try:\n",
    "    for i in lst:\n",
    "        if i>a:\n",
    "            a=i\n",
    "    print(a)\n",
    "except:\n",
    "    print('wrong input!')"
   ]
  },
  {
   "attachments": {},
   "cell_type": "markdown",
   "metadata": {},
   "source": [
    "5. Create a for loop that iterates through a list of lists and prints the sum of the elements in each sub-list."
   ]
  },
  {
   "cell_type": "code",
   "execution_count": 13,
   "metadata": {},
   "outputs": [
    {
     "name": "stdout",
     "output_type": "stream",
     "text": [
      "sum of sub-lists are respectively:  [6, 15]\n"
     ]
    }
   ],
   "source": [
    "lst=[[1,2,3],[4,5,6]]\n",
    "lst2=[]\n",
    "try:\n",
    "    for i in lst:\n",
    "        a=0\n",
    "        for j in i:\n",
    "            a=j+a\n",
    "        lst2=lst2+[a]\n",
    "    print('sum of sub-lists are respectively: ',lst2)\n",
    "except:\n",
    "    print('wrong input')"
   ]
  }
 ],
 "metadata": {
  "kernelspec": {
   "display_name": "Python 3",
   "language": "python",
   "name": "python3"
  },
  "language_info": {
   "codemirror_mode": {
    "name": "ipython",
    "version": 3
   },
   "file_extension": ".py",
   "mimetype": "text/x-python",
   "name": "python",
   "nbconvert_exporter": "python",
   "pygments_lexer": "ipython3",
   "version": "3.10.5"
  },
  "orig_nbformat": 4,
  "vscode": {
   "interpreter": {
    "hash": "fb32f29424dad0331eb27f736fb225b75ce51eda34955ffb31a6f6cebc1a2c55"
   }
  }
 },
 "nbformat": 4,
 "nbformat_minor": 2
}
